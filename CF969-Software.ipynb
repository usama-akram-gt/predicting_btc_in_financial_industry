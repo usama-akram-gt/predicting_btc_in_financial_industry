{
 "cells": [
  {
   "cell_type": "markdown",
   "metadata": {},
   "source": [
    "## Bitcoin High's/Low's Prediction\n",
    "### Software For Financial Industry"
   ]
  },
  {
   "cell_type": "markdown",
   "metadata": {},
   "source": [
    "Predicting Price by building optimized model using machine learning and deep neural networks.\n",
    "For building a financial industrial software, I will be predicting the Bitcoin price where we have more than 9000+ rows and 12 columns for making data-driven models.\n",
    "According to the source this dataset is from CoinMarketCap Data From August 4 to November 4, 2017. Before proceeding further I will be better first pre-processing the data and preparing it for further models fittings. Got dataset for bitcoin from this source: https://www.kaggle.com/datasets/paulrohan2020/crypto-data\n",
    "\n",
    "In this noteboook I have carried out different algorithms:\n",
    "- Linear Regression\n",
    "- Decision Tree Regressor\n",
    "- Support Vector Regressor\n",
    "- Ensemble Learning - Votting\n",
    "- Bagging using DTR\n",
    "- Deep Neural Network - Keras\n",
    "\n",
    "Trained the models, evaluated through mean absolute errors and tuned the hyper parameters for the better predictions."
   ]
  },
  {
   "cell_type": "code",
   "execution_count": 1,
   "metadata": {},
   "outputs": [],
   "source": [
    "# importing all the necessary libraries for me \n",
    "# to carry out different operations of building models\n",
    "import numpy as np\n",
    "import pandas as pd\n",
    "import matplotlib.pyplot as plt\n",
    "import seaborn as sns\n",
    "from sklearn import preprocessing\n",
    "from sklearn.preprocessing import MinMaxScaler, StandardScaler, MinMaxScaler, Normalizer, MaxAbsScaler\n",
    "from sklearn.model_selection import train_test_split\n",
    "from sklearn.model_selection import GridSearchCV, cross_val_score\n",
    "from sklearn.pipeline import Pipeline # For setting up pipeline\n",
    "\n",
    "from sklearn import svm\n",
    "from sklearn.linear_model import LinearRegression\n",
    "from sklearn.tree import DecisionTreeRegressor\n",
    "from sklearn.ensemble import VotingRegressor\n",
    "from sklearn.ensemble import BaggingRegressor\n",
    "\n",
    "from sklearn.model_selection import GridSearchCV\n",
    "\n",
    "from sklearn import metrics\n",
    "from sklearn.metrics import make_scorer\n",
    "from sklearn import decomposition\n",
    "\n",
    "from tensorflow import keras\n",
    "\n",
    "import warnings\n",
    "warnings.filterwarnings('ignore')"
   ]
  },
  {
   "cell_type": "code",
   "execution_count": 2,
   "metadata": {},
   "outputs": [
    {
     "data": {
      "text/html": [
       "<div>\n",
       "<style scoped>\n",
       "    .dataframe tbody tr th:only-of-type {\n",
       "        vertical-align: middle;\n",
       "    }\n",
       "\n",
       "    .dataframe tbody tr th {\n",
       "        vertical-align: top;\n",
       "    }\n",
       "\n",
       "    .dataframe thead th {\n",
       "        text-align: right;\n",
       "    }\n",
       "</style>\n",
       "<table border=\"1\" class=\"dataframe\">\n",
       "  <thead>\n",
       "    <tr style=\"text-align: right;\">\n",
       "      <th></th>\n",
       "      <th>Unnamed: 0</th>\n",
       "      <th>symbol</th>\n",
       "      <th>ranking by market cap</th>\n",
       "      <th>name</th>\n",
       "      <th>market cap</th>\n",
       "      <th>price</th>\n",
       "      <th>circulating supply</th>\n",
       "      <th>volume</th>\n",
       "      <th>% 1h</th>\n",
       "      <th>% 24h</th>\n",
       "      <th>% 1wk</th>\n",
       "      <th>file_name</th>\n",
       "    </tr>\n",
       "  </thead>\n",
       "  <tbody>\n",
       "    <tr>\n",
       "      <th>0</th>\n",
       "      <td>362</td>\n",
       "      <td>BTC</td>\n",
       "      <td>1</td>\n",
       "      <td>Bitcoin</td>\n",
       "      <td>$70,846,063,125</td>\n",
       "      <td>$4291.75</td>\n",
       "      <td>16,507,500</td>\n",
       "      <td>$2,814,510,000</td>\n",
       "      <td>-2.16%</td>\n",
       "      <td>5.57%</td>\n",
       "      <td>24.99%</td>\n",
       "      <td>r_20170815-071005</td>\n",
       "    </tr>\n",
       "    <tr>\n",
       "      <th>1</th>\n",
       "      <td>1417</td>\n",
       "      <td>BTC</td>\n",
       "      <td>1</td>\n",
       "      <td>Bitcoin</td>\n",
       "      <td>$76,715,293,809</td>\n",
       "      <td>$4639.63</td>\n",
       "      <td>16,534,787</td>\n",
       "      <td>$1,731,360,000</td>\n",
       "      <td>0.56%</td>\n",
       "      <td>2.73%</td>\n",
       "      <td>10.53%</td>\n",
       "      <td>r_20170831-114005</td>\n",
       "    </tr>\n",
       "    <tr>\n",
       "      <th>2</th>\n",
       "      <td>2498</td>\n",
       "      <td>BTC</td>\n",
       "      <td>1</td>\n",
       "      <td>Bitcoin</td>\n",
       "      <td>$71,411,773,702</td>\n",
       "      <td>$4316.74</td>\n",
       "      <td>16,542,987</td>\n",
       "      <td>$2,080,400,000</td>\n",
       "      <td>-2.51%</td>\n",
       "      <td>-6.91%</td>\n",
       "      <td>0.54%</td>\n",
       "      <td>r_20170904-085005</td>\n",
       "    </tr>\n",
       "    <tr>\n",
       "      <th>3</th>\n",
       "      <td>3568</td>\n",
       "      <td>BTC</td>\n",
       "      <td>1</td>\n",
       "      <td>Bitcoin</td>\n",
       "      <td>$67,158,717,638</td>\n",
       "      <td>$4066.51</td>\n",
       "      <td>16,515,075</td>\n",
       "      <td>$2,796,620,000</td>\n",
       "      <td>-0.71%</td>\n",
       "      <td>-5.92%</td>\n",
       "      <td>9.26%</td>\n",
       "      <td>r_20170819-065505</td>\n",
       "    </tr>\n",
       "    <tr>\n",
       "      <th>4</th>\n",
       "      <td>4615</td>\n",
       "      <td>BTC</td>\n",
       "      <td>1</td>\n",
       "      <td>Bitcoin</td>\n",
       "      <td>$67,243,714,005</td>\n",
       "      <td>$4071.86</td>\n",
       "      <td>16,514,250</td>\n",
       "      <td>$2,611,450,000</td>\n",
       "      <td>-1.38%</td>\n",
       "      <td>-5.83%</td>\n",
       "      <td>13.93%</td>\n",
       "      <td>r_20170818-210005</td>\n",
       "    </tr>\n",
       "    <tr>\n",
       "      <th>...</th>\n",
       "      <td>...</td>\n",
       "      <td>...</td>\n",
       "      <td>...</td>\n",
       "      <td>...</td>\n",
       "      <td>...</td>\n",
       "      <td>...</td>\n",
       "      <td>...</td>\n",
       "      <td>...</td>\n",
       "      <td>...</td>\n",
       "      <td>...</td>\n",
       "      <td>...</td>\n",
       "      <td>...</td>\n",
       "    </tr>\n",
       "    <tr>\n",
       "      <th>9426</th>\n",
       "      <td>9926615</td>\n",
       "      <td>BTC</td>\n",
       "      <td>1</td>\n",
       "      <td>Bitcoin</td>\n",
       "      <td>$71,308,175,058</td>\n",
       "      <td>$4310.37</td>\n",
       "      <td>16,543,400</td>\n",
       "      <td>$2,486,960,000</td>\n",
       "      <td>0.46%</td>\n",
       "      <td>-4.42%</td>\n",
       "      <td>-0.17%</td>\n",
       "      <td>r_20170904-132006</td>\n",
       "    </tr>\n",
       "    <tr>\n",
       "      <th>9427</th>\n",
       "      <td>9927680</td>\n",
       "      <td>BTC</td>\n",
       "      <td>1</td>\n",
       "      <td>Bitcoin</td>\n",
       "      <td>$70,475,225,454</td>\n",
       "      <td>$4268.07</td>\n",
       "      <td>16,512,200</td>\n",
       "      <td>$2,400,960,000</td>\n",
       "      <td>-0.66%</td>\n",
       "      <td>-0.76%</td>\n",
       "      <td>25.34%</td>\n",
       "      <td>r_20170817-190505</td>\n",
       "    </tr>\n",
       "    <tr>\n",
       "      <th>9428</th>\n",
       "      <td>9928740</td>\n",
       "      <td>BTC</td>\n",
       "      <td>1</td>\n",
       "      <td>Bitcoin</td>\n",
       "      <td>$72,348,215,185</td>\n",
       "      <td>$4376.67</td>\n",
       "      <td>16,530,425</td>\n",
       "      <td>$1,782,770,000</td>\n",
       "      <td>-0.25%</td>\n",
       "      <td>2.78%</td>\n",
       "      <td>13.37%</td>\n",
       "      <td>r_20170829-064005</td>\n",
       "    </tr>\n",
       "    <tr>\n",
       "      <th>9429</th>\n",
       "      <td>9929806</td>\n",
       "      <td>BTC</td>\n",
       "      <td>1</td>\n",
       "      <td>Bitcoin</td>\n",
       "      <td>$68,520,412,389</td>\n",
       "      <td>$4147.00</td>\n",
       "      <td>16,522,887</td>\n",
       "      <td>$2,279,970,000</td>\n",
       "      <td>0.16%</td>\n",
       "      <td>0.95%</td>\n",
       "      <td>-4.62%</td>\n",
       "      <td>r_20170824-044005</td>\n",
       "    </tr>\n",
       "    <tr>\n",
       "      <th>9430</th>\n",
       "      <td>9930859</td>\n",
       "      <td>BTC</td>\n",
       "      <td>1</td>\n",
       "      <td>Bitcoin</td>\n",
       "      <td>$67,490,059,171</td>\n",
       "      <td>$4085.67</td>\n",
       "      <td>16,518,725</td>\n",
       "      <td>$2,445,920,000</td>\n",
       "      <td>0.11%</td>\n",
       "      <td>-1.18%</td>\n",
       "      <td>-1.89%</td>\n",
       "      <td>r_20170821-103506</td>\n",
       "    </tr>\n",
       "  </tbody>\n",
       "</table>\n",
       "<p>9431 rows × 12 columns</p>\n",
       "</div>"
      ],
      "text/plain": [
       "      Unnamed: 0 symbol  ranking by market cap     name        market cap  \\\n",
       "0            362    BTC                      1  Bitcoin  $70,846,063,125    \n",
       "1           1417    BTC                      1  Bitcoin  $76,715,293,809    \n",
       "2           2498    BTC                      1  Bitcoin  $71,411,773,702    \n",
       "3           3568    BTC                      1  Bitcoin  $67,158,717,638    \n",
       "4           4615    BTC                      1  Bitcoin  $67,243,714,005    \n",
       "...          ...    ...                    ...      ...               ...   \n",
       "9426     9926615    BTC                      1  Bitcoin  $71,308,175,058    \n",
       "9427     9927680    BTC                      1  Bitcoin  $70,475,225,454    \n",
       "9428     9928740    BTC                      1  Bitcoin  $72,348,215,185    \n",
       "9429     9929806    BTC                      1  Bitcoin  $68,520,412,389    \n",
       "9430     9930859    BTC                      1  Bitcoin  $67,490,059,171    \n",
       "\n",
       "         price circulating supply          volume    % 1h   % 24h   % 1wk  \\\n",
       "0     $4291.75         16,507,500  $2,814,510,000  -2.16%   5.57%  24.99%   \n",
       "1     $4639.63         16,534,787  $1,731,360,000   0.56%   2.73%  10.53%   \n",
       "2     $4316.74         16,542,987  $2,080,400,000  -2.51%  -6.91%   0.54%   \n",
       "3     $4066.51         16,515,075  $2,796,620,000  -0.71%  -5.92%   9.26%   \n",
       "4     $4071.86         16,514,250  $2,611,450,000  -1.38%  -5.83%  13.93%   \n",
       "...        ...                ...             ...     ...     ...     ...   \n",
       "9426  $4310.37         16,543,400  $2,486,960,000   0.46%  -4.42%  -0.17%   \n",
       "9427  $4268.07         16,512,200  $2,400,960,000  -0.66%  -0.76%  25.34%   \n",
       "9428  $4376.67         16,530,425  $1,782,770,000  -0.25%   2.78%  13.37%   \n",
       "9429  $4147.00         16,522,887  $2,279,970,000   0.16%   0.95%  -4.62%   \n",
       "9430  $4085.67         16,518,725  $2,445,920,000   0.11%  -1.18%  -1.89%   \n",
       "\n",
       "              file_name  \n",
       "0     r_20170815-071005  \n",
       "1     r_20170831-114005  \n",
       "2     r_20170904-085005  \n",
       "3     r_20170819-065505  \n",
       "4     r_20170818-210005  \n",
       "...                 ...  \n",
       "9426  r_20170904-132006  \n",
       "9427  r_20170817-190505  \n",
       "9428  r_20170829-064005  \n",
       "9429  r_20170824-044005  \n",
       "9430  r_20170821-103506  \n",
       "\n",
       "[9431 rows x 12 columns]"
      ]
     },
     "execution_count": 2,
     "metadata": {},
     "output_type": "execute_result"
    }
   ],
   "source": [
    "# importing crypto-bitcoin data from the file.\n",
    "raw_data = pd.read_csv(\"./btc-crypto.csv\") # reading training file\n",
    "raw_data"
   ]
  },
  {
   "cell_type": "code",
   "execution_count": 3,
   "metadata": {},
   "outputs": [
    {
     "data": {
      "text/plain": [
       "Unnamed: 0                int64\n",
       "symbol                   object\n",
       "ranking by market cap     int64\n",
       "name                     object\n",
       "market cap               object\n",
       "price                    object\n",
       "circulating supply       object\n",
       "volume                   object\n",
       "% 1h                     object\n",
       "% 24h                    object\n",
       "% 1wk                    object\n",
       "file_name                object\n",
       "dtype: object"
      ]
     },
     "execution_count": 3,
     "metadata": {},
     "output_type": "execute_result"
    }
   ],
   "source": [
    "raw_data.dtypes # checking datatypes of the game dataframe"
   ]
  },
  {
   "cell_type": "code",
   "execution_count": 4,
   "metadata": {},
   "outputs": [
    {
     "data": {
      "text/plain": [
       "0       False\n",
       "1       False\n",
       "2       False\n",
       "3       False\n",
       "4       False\n",
       "        ...  \n",
       "9426    False\n",
       "9427    False\n",
       "9428    False\n",
       "9429    False\n",
       "9430    False\n",
       "Length: 9431, dtype: bool"
      ]
     },
     "execution_count": 4,
     "metadata": {},
     "output_type": "execute_result"
    }
   ],
   "source": [
    "raw_data.duplicated(keep='last') # We have no any duplicates"
   ]
  },
  {
   "cell_type": "code",
   "execution_count": 5,
   "metadata": {},
   "outputs": [
    {
     "data": {
      "text/plain": [
       "Unnamed: 0               0\n",
       "symbol                   0\n",
       "ranking by market cap    0\n",
       "name                     0\n",
       "market cap               0\n",
       "price                    0\n",
       "circulating supply       0\n",
       "volume                   0\n",
       "% 1h                     0\n",
       "% 24h                    0\n",
       "% 1wk                    0\n",
       "file_name                0\n",
       "dtype: int64"
      ]
     },
     "execution_count": 5,
     "metadata": {},
     "output_type": "execute_result"
    }
   ],
   "source": [
    "raw_data.isna().sum() # Checking if there's IsNA or any empty value and printing the count of them"
   ]
  },
  {
   "cell_type": "code",
   "execution_count": 6,
   "metadata": {},
   "outputs": [
    {
     "name": "stdout",
     "output_type": "stream",
     "text": [
      "['Unnamed: 0', 'symbol', 'ranking by market cap', 'name', 'market cap', 'price', 'circulating supply', 'volume', '% 1h', '% 24h', '% 1wk', 'file_name']\n"
     ]
    }
   ],
   "source": [
    "print(raw_data.columns.tolist())"
   ]
  },
  {
   "cell_type": "markdown",
   "metadata": {},
   "source": [
    "## Preprocessing data"
   ]
  },
  {
   "cell_type": "markdown",
   "metadata": {},
   "source": [
    "#### Column file_name has the dates for the data when it was collected which we split and merge with different string options."
   ]
  },
  {
   "cell_type": "code",
   "execution_count": 7,
   "metadata": {},
   "outputs": [],
   "source": [
    "raw_data[\"date\"] = raw_data[\"file_name\"].str.split(\"-\", expand=True)[0].str.split(\"_\", expand=True)[1] ## splitting by '-' and then by '_'\n",
    "raw_data[\"date\"] = raw_data['date'].str[:4] + '-' + raw_data['date'].str[4:] # merging hyphen after every 4 letters in date\n",
    "raw_data[\"date\"] = raw_data['date'].str[:7] + '-' + raw_data['date'].str[7:] # adding hyphen again but now after every 7 letter\n",
    "raw_data = raw_data.drop('file_name', 1) ## dropping file_name and keeping only date column"
   ]
  },
  {
   "cell_type": "markdown",
   "metadata": {},
   "source": [
    "#### Removing all the % signs from %1h, %24h and %1wk columns."
   ]
  },
  {
   "cell_type": "code",
   "execution_count": 8,
   "metadata": {},
   "outputs": [],
   "source": [
    "raw_data['% 1h'] =raw_data['% 1h'].str.replace('%', '') # replacing % with null\n",
    "raw_data['% 24h'] =raw_data['% 24h'].str.replace('%', '')# replacing % with null\n",
    "raw_data['% 1wk'] =raw_data['% 1wk'].str.replace('%', '')# replacing % with null"
   ]
  },
  {
   "cell_type": "markdown",
   "metadata": {},
   "source": [
    "#### Now removing all the dollar '$' signs from market cap, price, and volume"
   ]
  },
  {
   "cell_type": "code",
   "execution_count": 9,
   "metadata": {},
   "outputs": [],
   "source": [
    "# first market cap\n",
    "raw_data['market cap'] =raw_data['market cap'].str.replace('$', '')\n",
    "raw_data['market cap'] =raw_data['market cap'].str.replace(',', '')\n",
    "# price\n",
    "raw_data['price'] =raw_data['price'].str.replace('$', '')\n",
    "# volume\n",
    "raw_data['volume'] =raw_data['volume'].str.replace('$', '')\n",
    "raw_data['volume'] =raw_data['volume'].str.replace(',', '')\n",
    "# circulating supply\n",
    "raw_data['circulating supply'] =raw_data['circulating supply'].str.replace(',', '')\n",
    "# replacing '?' in the whole dataset\n",
    "raw_data.replace('?', '0', inplace = True)"
   ]
  },
  {
   "cell_type": "markdown",
   "metadata": {},
   "source": [
    "#### Droping symbol and name column which we now know that all the data is of Bitcoin and not needed for any further model making."
   ]
  },
  {
   "cell_type": "code",
   "execution_count": 10,
   "metadata": {},
   "outputs": [],
   "source": [
    "## dropping ranking by market cap, symbol, name and Unnamed: 0 columns\n",
    "raw_data = raw_data.drop('ranking by market cap', 1) \n",
    "raw_data = raw_data.drop('name', 1) \n",
    "raw_data = raw_data.drop('Unnamed: 0', 1) \n",
    "raw_data = raw_data.drop('symbol', 1) "
   ]
  },
  {
   "cell_type": "markdown",
   "metadata": {},
   "source": [
    "#### Encoding date to futher year, month and day"
   ]
  },
  {
   "cell_type": "code",
   "execution_count": 11,
   "metadata": {},
   "outputs": [],
   "source": [
    "raw_data[[\"year\",\"month\",\"day\"]] = raw_data[\"date\"].str.split(\"-\", expand=True) ## splitting by '-'\n",
    "raw_data = raw_data.drop('date', 1) ## dropping date column"
   ]
  },
  {
   "cell_type": "markdown",
   "metadata": {},
   "source": [
    "#### Converting all the object columns to int64"
   ]
  },
  {
   "cell_type": "code",
   "execution_count": 12,
   "metadata": {},
   "outputs": [],
   "source": [
    "int_object_cols = [\"market cap\", \"circulating supply\", \"volume\"]\n",
    "for col in int_object_cols:\n",
    "    raw_data[col] = raw_data[col].astype(int)\n",
    "\n",
    "\n",
    "float_object_cols = [\"price\", \"% 1h\", \"% 24h\", \"% 1wk\"]\n",
    "for col in float_object_cols:\n",
    "    raw_data[col] = raw_data[col].astype(float)\n",
    "\n",
    "int_object_cols = [\"year\",\"month\",\"day\"]\n",
    "for col in int_object_cols:\n",
    "    raw_data[col] = raw_data[col].astype(int)"
   ]
  },
  {
   "cell_type": "code",
   "execution_count": 13,
   "metadata": {},
   "outputs": [
    {
     "data": {
      "text/html": [
       "<div>\n",
       "<style scoped>\n",
       "    .dataframe tbody tr th:only-of-type {\n",
       "        vertical-align: middle;\n",
       "    }\n",
       "\n",
       "    .dataframe tbody tr th {\n",
       "        vertical-align: top;\n",
       "    }\n",
       "\n",
       "    .dataframe thead th {\n",
       "        text-align: right;\n",
       "    }\n",
       "</style>\n",
       "<table border=\"1\" class=\"dataframe\">\n",
       "  <thead>\n",
       "    <tr style=\"text-align: right;\">\n",
       "      <th></th>\n",
       "      <th>market cap</th>\n",
       "      <th>price</th>\n",
       "      <th>circulating supply</th>\n",
       "      <th>volume</th>\n",
       "      <th>% 1h</th>\n",
       "      <th>% 24h</th>\n",
       "      <th>% 1wk</th>\n",
       "      <th>year</th>\n",
       "      <th>month</th>\n",
       "      <th>day</th>\n",
       "    </tr>\n",
       "  </thead>\n",
       "  <tbody>\n",
       "    <tr>\n",
       "      <th>0</th>\n",
       "      <td>70846063125</td>\n",
       "      <td>4291.75</td>\n",
       "      <td>16507500</td>\n",
       "      <td>2814510000</td>\n",
       "      <td>-2.16</td>\n",
       "      <td>5.57</td>\n",
       "      <td>24.99</td>\n",
       "      <td>2017</td>\n",
       "      <td>8</td>\n",
       "      <td>15</td>\n",
       "    </tr>\n",
       "    <tr>\n",
       "      <th>1</th>\n",
       "      <td>76715293809</td>\n",
       "      <td>4639.63</td>\n",
       "      <td>16534787</td>\n",
       "      <td>1731360000</td>\n",
       "      <td>0.56</td>\n",
       "      <td>2.73</td>\n",
       "      <td>10.53</td>\n",
       "      <td>2017</td>\n",
       "      <td>8</td>\n",
       "      <td>31</td>\n",
       "    </tr>\n",
       "    <tr>\n",
       "      <th>2</th>\n",
       "      <td>71411773702</td>\n",
       "      <td>4316.74</td>\n",
       "      <td>16542987</td>\n",
       "      <td>2080400000</td>\n",
       "      <td>-2.51</td>\n",
       "      <td>-6.91</td>\n",
       "      <td>0.54</td>\n",
       "      <td>2017</td>\n",
       "      <td>9</td>\n",
       "      <td>4</td>\n",
       "    </tr>\n",
       "    <tr>\n",
       "      <th>3</th>\n",
       "      <td>67158717638</td>\n",
       "      <td>4066.51</td>\n",
       "      <td>16515075</td>\n",
       "      <td>2796620000</td>\n",
       "      <td>-0.71</td>\n",
       "      <td>-5.92</td>\n",
       "      <td>9.26</td>\n",
       "      <td>2017</td>\n",
       "      <td>8</td>\n",
       "      <td>19</td>\n",
       "    </tr>\n",
       "    <tr>\n",
       "      <th>4</th>\n",
       "      <td>67243714005</td>\n",
       "      <td>4071.86</td>\n",
       "      <td>16514250</td>\n",
       "      <td>2611450000</td>\n",
       "      <td>-1.38</td>\n",
       "      <td>-5.83</td>\n",
       "      <td>13.93</td>\n",
       "      <td>2017</td>\n",
       "      <td>8</td>\n",
       "      <td>18</td>\n",
       "    </tr>\n",
       "    <tr>\n",
       "      <th>...</th>\n",
       "      <td>...</td>\n",
       "      <td>...</td>\n",
       "      <td>...</td>\n",
       "      <td>...</td>\n",
       "      <td>...</td>\n",
       "      <td>...</td>\n",
       "      <td>...</td>\n",
       "      <td>...</td>\n",
       "      <td>...</td>\n",
       "      <td>...</td>\n",
       "    </tr>\n",
       "    <tr>\n",
       "      <th>9426</th>\n",
       "      <td>71308175058</td>\n",
       "      <td>4310.37</td>\n",
       "      <td>16543400</td>\n",
       "      <td>2486960000</td>\n",
       "      <td>0.46</td>\n",
       "      <td>-4.42</td>\n",
       "      <td>-0.17</td>\n",
       "      <td>2017</td>\n",
       "      <td>9</td>\n",
       "      <td>4</td>\n",
       "    </tr>\n",
       "    <tr>\n",
       "      <th>9427</th>\n",
       "      <td>70475225454</td>\n",
       "      <td>4268.07</td>\n",
       "      <td>16512200</td>\n",
       "      <td>2400960000</td>\n",
       "      <td>-0.66</td>\n",
       "      <td>-0.76</td>\n",
       "      <td>25.34</td>\n",
       "      <td>2017</td>\n",
       "      <td>8</td>\n",
       "      <td>17</td>\n",
       "    </tr>\n",
       "    <tr>\n",
       "      <th>9428</th>\n",
       "      <td>72348215185</td>\n",
       "      <td>4376.67</td>\n",
       "      <td>16530425</td>\n",
       "      <td>1782770000</td>\n",
       "      <td>-0.25</td>\n",
       "      <td>2.78</td>\n",
       "      <td>13.37</td>\n",
       "      <td>2017</td>\n",
       "      <td>8</td>\n",
       "      <td>29</td>\n",
       "    </tr>\n",
       "    <tr>\n",
       "      <th>9429</th>\n",
       "      <td>68520412389</td>\n",
       "      <td>4147.00</td>\n",
       "      <td>16522887</td>\n",
       "      <td>2279970000</td>\n",
       "      <td>0.16</td>\n",
       "      <td>0.95</td>\n",
       "      <td>-4.62</td>\n",
       "      <td>2017</td>\n",
       "      <td>8</td>\n",
       "      <td>24</td>\n",
       "    </tr>\n",
       "    <tr>\n",
       "      <th>9430</th>\n",
       "      <td>67490059171</td>\n",
       "      <td>4085.67</td>\n",
       "      <td>16518725</td>\n",
       "      <td>2445920000</td>\n",
       "      <td>0.11</td>\n",
       "      <td>-1.18</td>\n",
       "      <td>-1.89</td>\n",
       "      <td>2017</td>\n",
       "      <td>8</td>\n",
       "      <td>21</td>\n",
       "    </tr>\n",
       "  </tbody>\n",
       "</table>\n",
       "<p>9431 rows × 10 columns</p>\n",
       "</div>"
      ],
      "text/plain": [
       "       market cap    price  circulating supply      volume  % 1h  % 24h  \\\n",
       "0     70846063125  4291.75            16507500  2814510000 -2.16   5.57   \n",
       "1     76715293809  4639.63            16534787  1731360000  0.56   2.73   \n",
       "2     71411773702  4316.74            16542987  2080400000 -2.51  -6.91   \n",
       "3     67158717638  4066.51            16515075  2796620000 -0.71  -5.92   \n",
       "4     67243714005  4071.86            16514250  2611450000 -1.38  -5.83   \n",
       "...           ...      ...                 ...         ...   ...    ...   \n",
       "9426  71308175058  4310.37            16543400  2486960000  0.46  -4.42   \n",
       "9427  70475225454  4268.07            16512200  2400960000 -0.66  -0.76   \n",
       "9428  72348215185  4376.67            16530425  1782770000 -0.25   2.78   \n",
       "9429  68520412389  4147.00            16522887  2279970000  0.16   0.95   \n",
       "9430  67490059171  4085.67            16518725  2445920000  0.11  -1.18   \n",
       "\n",
       "      % 1wk  year  month  day  \n",
       "0     24.99  2017      8   15  \n",
       "1     10.53  2017      8   31  \n",
       "2      0.54  2017      9    4  \n",
       "3      9.26  2017      8   19  \n",
       "4     13.93  2017      8   18  \n",
       "...     ...   ...    ...  ...  \n",
       "9426  -0.17  2017      9    4  \n",
       "9427  25.34  2017      8   17  \n",
       "9428  13.37  2017      8   29  \n",
       "9429  -4.62  2017      8   24  \n",
       "9430  -1.89  2017      8   21  \n",
       "\n",
       "[9431 rows x 10 columns]"
      ]
     },
     "execution_count": 13,
     "metadata": {},
     "output_type": "execute_result"
    }
   ],
   "source": [
    "raw_data"
   ]
  },
  {
   "cell_type": "markdown",
   "metadata": {},
   "source": [
    "#### Some graphical and numerical representations with correlation plot"
   ]
  },
  {
   "cell_type": "code",
   "execution_count": 14,
   "metadata": {},
   "outputs": [
    {
     "data": {
      "text/plain": [
       "array([[<AxesSubplot:title={'center':'market cap'}>,\n",
       "        <AxesSubplot:title={'center':'price'}>,\n",
       "        <AxesSubplot:title={'center':'circulating supply'}>],\n",
       "       [<AxesSubplot:title={'center':'volume'}>,\n",
       "        <AxesSubplot:title={'center':'% 1h'}>,\n",
       "        <AxesSubplot:title={'center':'% 24h'}>],\n",
       "       [<AxesSubplot:title={'center':'% 1wk'}>,\n",
       "        <AxesSubplot:title={'center':'year'}>,\n",
       "        <AxesSubplot:title={'center':'month'}>],\n",
       "       [<AxesSubplot:title={'center':'day'}>, <AxesSubplot:>,\n",
       "        <AxesSubplot:>]], dtype=object)"
      ]
     },
     "execution_count": 14,
     "metadata": {},
     "output_type": "execute_result"
    },
    {
     "data": {
      "image/png": "[encoded data removed]",
      "text/plain": [
       "<Figure size 1512x1080 with 12 Axes>"
      ]
     },
     "metadata": {
      "needs_background": "light"
     },
     "output_type": "display_data"
    }
   ],
   "source": [
    "raw_data.hist(figsize=(21,15)) ### checking graphical representation/spread for our data through histogram"
   ]
  },
  {
   "cell_type": "code",
   "execution_count": 15,
   "metadata": {},
   "outputs": [
    {
     "data": {
      "text/html": [
       "<div>\n",
       "<style scoped>\n",
       "    .dataframe tbody tr th:only-of-type {\n",
       "        vertical-align: middle;\n",
       "    }\n",
       "\n",
       "    .dataframe tbody tr th {\n",
       "        vertical-align: top;\n",
       "    }\n",
       "\n",
       "    .dataframe thead th {\n",
       "        text-align: right;\n",
       "    }\n",
       "</style>\n",
       "<table border=\"1\" class=\"dataframe\">\n",
       "  <thead>\n",
       "    <tr style=\"text-align: right;\">\n",
       "      <th></th>\n",
       "      <th>count</th>\n",
       "      <th>mean</th>\n",
       "      <th>std</th>\n",
       "      <th>min</th>\n",
       "      <th>25%</th>\n",
       "      <th>50%</th>\n",
       "      <th>75%</th>\n",
       "      <th>max</th>\n",
       "    </tr>\n",
       "  </thead>\n",
       "  <tbody>\n",
       "    <tr>\n",
       "      <th>market cap</th>\n",
       "      <td>9431.0</td>\n",
       "      <td>6.727159e+10</td>\n",
       "      <td>7.840992e+09</td>\n",
       "      <td>4.551441e+10</td>\n",
       "      <td>6.303599e+10</td>\n",
       "      <td>6.910735e+10</td>\n",
       "      <td>7.223193e+10</td>\n",
       "      <td>8.227914e+10</td>\n",
       "    </tr>\n",
       "    <tr>\n",
       "      <th>price</th>\n",
       "      <td>9431.0</td>\n",
       "      <td>4.072401e+03</td>\n",
       "      <td>4.714801e+02</td>\n",
       "      <td>2.760670e+03</td>\n",
       "      <td>3.818740e+03</td>\n",
       "      <td>4.183530e+03</td>\n",
       "      <td>4.370565e+03</td>\n",
       "      <td>4.975040e+03</td>\n",
       "    </tr>\n",
       "    <tr>\n",
       "      <th>circulating supply</th>\n",
       "      <td>9431.0</td>\n",
       "      <td>1.651727e+07</td>\n",
       "      <td>1.647548e+04</td>\n",
       "      <td>1.648672e+07</td>\n",
       "      <td>1.650300e+07</td>\n",
       "      <td>1.651811e+07</td>\n",
       "      <td>1.653034e+07</td>\n",
       "      <td>1.654759e+07</td>\n",
       "    </tr>\n",
       "    <tr>\n",
       "      <th>volume</th>\n",
       "      <td>9431.0</td>\n",
       "      <td>3.337736e+13</td>\n",
       "      <td>2.291732e+15</td>\n",
       "      <td>8.572620e+08</td>\n",
       "      <td>1.710580e+09</td>\n",
       "      <td>2.137150e+09</td>\n",
       "      <td>2.646530e+09</td>\n",
       "      <td>1.580480e+17</td>\n",
       "    </tr>\n",
       "    <tr>\n",
       "      <th>% 1h</th>\n",
       "      <td>9431.0</td>\n",
       "      <td>6.497826e-02</td>\n",
       "      <td>9.023392e-01</td>\n",
       "      <td>-5.050000e+00</td>\n",
       "      <td>-3.900000e-01</td>\n",
       "      <td>7.000000e-02</td>\n",
       "      <td>5.200000e-01</td>\n",
       "      <td>6.880000e+00</td>\n",
       "    </tr>\n",
       "    <tr>\n",
       "      <th>% 24h</th>\n",
       "      <td>9431.0</td>\n",
       "      <td>1.459332e+00</td>\n",
       "      <td>4.395197e+00</td>\n",
       "      <td>-1.185000e+01</td>\n",
       "      <td>-1.300000e+00</td>\n",
       "      <td>1.240000e+00</td>\n",
       "      <td>4.150000e+00</td>\n",
       "      <td>1.462000e+01</td>\n",
       "    </tr>\n",
       "    <tr>\n",
       "      <th>% 1wk</th>\n",
       "      <td>9431.0</td>\n",
       "      <td>1.177127e+01</td>\n",
       "      <td>1.077127e+01</td>\n",
       "      <td>-1.515000e+01</td>\n",
       "      <td>3.455000e+00</td>\n",
       "      <td>1.048000e+01</td>\n",
       "      <td>2.211000e+01</td>\n",
       "      <td>3.219000e+01</td>\n",
       "    </tr>\n",
       "    <tr>\n",
       "      <th>year</th>\n",
       "      <td>9431.0</td>\n",
       "      <td>2.017000e+03</td>\n",
       "      <td>0.000000e+00</td>\n",
       "      <td>2.017000e+03</td>\n",
       "      <td>2.017000e+03</td>\n",
       "      <td>2.017000e+03</td>\n",
       "      <td>2.017000e+03</td>\n",
       "      <td>2.017000e+03</td>\n",
       "    </tr>\n",
       "    <tr>\n",
       "      <th>month</th>\n",
       "      <td>9431.0</td>\n",
       "      <td>8.164034e+00</td>\n",
       "      <td>3.703256e-01</td>\n",
       "      <td>8.000000e+00</td>\n",
       "      <td>8.000000e+00</td>\n",
       "      <td>8.000000e+00</td>\n",
       "      <td>8.000000e+00</td>\n",
       "      <td>9.000000e+00</td>\n",
       "    </tr>\n",
       "    <tr>\n",
       "      <th>day</th>\n",
       "      <td>9431.0</td>\n",
       "      <td>1.541374e+01</td>\n",
       "      <td>9.047850e+00</td>\n",
       "      <td>1.000000e+00</td>\n",
       "      <td>7.000000e+00</td>\n",
       "      <td>1.500000e+01</td>\n",
       "      <td>2.300000e+01</td>\n",
       "      <td>3.100000e+01</td>\n",
       "    </tr>\n",
       "  </tbody>\n",
       "</table>\n",
       "</div>"
      ],
      "text/plain": [
       "                     count          mean           std           min  \\\n",
       "market cap          9431.0  6.727159e+10  7.840992e+09  4.551441e+10   \n",
       "price               9431.0  4.072401e+03  4.714801e+02  2.760670e+03   \n",
       "circulating supply  9431.0  1.651727e+07  1.647548e+04  1.648672e+07   \n",
       "volume              9431.0  3.337736e+13  2.291732e+15  8.572620e+08   \n",
       "% 1h                9431.0  6.497826e-02  9.023392e-01 -5.050000e+00   \n",
       "% 24h               9431.0  1.459332e+00  4.395197e+00 -1.185000e+01   \n",
       "% 1wk               9431.0  1.177127e+01  1.077127e+01 -1.515000e+01   \n",
       "year                9431.0  2.017000e+03  0.000000e+00  2.017000e+03   \n",
       "month               9431.0  8.164034e+00  3.703256e-01  8.000000e+00   \n",
       "day                 9431.0  1.541374e+01  9.047850e+00  1.000000e+00   \n",
       "\n",
       "                             25%           50%           75%           max  \n",
       "market cap          6.303599e+10  6.910735e+10  7.223193e+10  8.227914e+10  \n",
       "price               3.818740e+03  4.183530e+03  4.370565e+03  4.975040e+03  \n",
       "circulating supply  1.650300e+07  1.651811e+07  1.653034e+07  1.654759e+07  \n",
       "volume              1.710580e+09  2.137150e+09  2.646530e+09  1.580480e+17  \n",
       "% 1h               -3.900000e-01  7.000000e-02  5.200000e-01  6.880000e+00  \n",
       "% 24h              -1.300000e+00  1.240000e+00  4.150000e+00  1.462000e+01  \n",
       "% 1wk               3.455000e+00  1.048000e+01  2.211000e+01  3.219000e+01  \n",
       "year                2.017000e+03  2.017000e+03  2.017000e+03  2.017000e+03  \n",
       "month               8.000000e+00  8.000000e+00  8.000000e+00  9.000000e+00  \n",
       "day                 7.000000e+00  1.500000e+01  2.300000e+01  3.100000e+01  "
      ]
     },
     "execution_count": 15,
     "metadata": {},
     "output_type": "execute_result"
    }
   ],
   "source": [
    "raw_data.describe().T ## checking the numerical spread of our data through statistical methods for all the columns"
   ]
  },
  {
   "cell_type": "code",
   "execution_count": 16,
   "metadata": {},
   "outputs": [
    {
     "data": {
      "image/png": "[encoded data removed]",
      "text/plain": [
       "<Figure size 1440x864 with 2 Axes>"
      ]
     },
     "metadata": {
      "needs_background": "light"
     },
     "output_type": "display_data"
    }
   ],
   "source": [
    "# checking correlation which can help us in decinding which column will help us better in predicting our price\n",
    "plt.figure(figsize=(20,12))\n",
    "sns.heatmap(raw_data.corr(), annot=True, annot_kws={\"fontsize\":12}, fmt=\".2f\", vmin=-1)\n",
    "plt.show()"
   ]
  },
  {
   "cell_type": "markdown",
   "metadata": {},
   "source": [
    "##### We have many columns which are not good for model building or are not showing good collinearity but still we are going to consider these all columns."
   ]
  },
  {
   "cell_type": "markdown",
   "metadata": {},
   "source": [
    "### Running Optimizations/ Making Models for predicing price"
   ]
  },
  {
   "cell_type": "markdown",
   "metadata": {},
   "source": [
    "#### Normalizing data through SKlearn min-max normalization | y = (x – min) / (max – min) |"
   ]
  },
  {
   "cell_type": "code",
   "execution_count": 17,
   "metadata": {},
   "outputs": [],
   "source": [
    "# Normalizing training dataframe\n",
    "min_max_scaler = preprocessing.MinMaxScaler() # Choosing MinMax scaler for normalization between (0-1) \n",
    "btc_data_frame = min_max_scaler.fit_transform(raw_data) # Scalling the whole data\n",
    "btc_data = pd.DataFrame(btc_data_frame)"
   ]
  },
  {
   "cell_type": "code",
   "execution_count": 18,
   "metadata": {},
   "outputs": [
    {
     "data": {
      "text/html": [
       "<div>\n",
       "<style scoped>\n",
       "    .dataframe tbody tr th:only-of-type {\n",
       "        vertical-align: middle;\n",
       "    }\n",
       "\n",
       "    .dataframe tbody tr th {\n",
       "        vertical-align: top;\n",
       "    }\n",
       "\n",
       "    .dataframe thead th {\n",
       "        text-align: right;\n",
       "    }\n",
       "</style>\n",
       "<table border=\"1\" class=\"dataframe\">\n",
       "  <thead>\n",
       "    <tr style=\"text-align: right;\">\n",
       "      <th></th>\n",
       "      <th>0</th>\n",
       "      <th>1</th>\n",
       "      <th>2</th>\n",
       "      <th>3</th>\n",
       "      <th>4</th>\n",
       "      <th>5</th>\n",
       "      <th>6</th>\n",
       "      <th>7</th>\n",
       "      <th>8</th>\n",
       "      <th>9</th>\n",
       "    </tr>\n",
       "  </thead>\n",
       "  <tbody>\n",
       "    <tr>\n",
       "      <th>0</th>\n",
       "      <td>0.689021</td>\n",
       "      <td>0.691429</td>\n",
       "      <td>0.341346</td>\n",
       "      <td>1.238388e-08</td>\n",
       "      <td>0.242246</td>\n",
       "      <td>0.658104</td>\n",
       "      <td>0.847909</td>\n",
       "      <td>0.0</td>\n",
       "      <td>0.0</td>\n",
       "      <td>0.466667</td>\n",
       "    </tr>\n",
       "    <tr>\n",
       "      <th>1</th>\n",
       "      <td>0.848664</td>\n",
       "      <td>0.848530</td>\n",
       "      <td>0.789688</td>\n",
       "      <td>5.530586e-09</td>\n",
       "      <td>0.470243</td>\n",
       "      <td>0.550812</td>\n",
       "      <td>0.542459</td>\n",
       "      <td>0.0</td>\n",
       "      <td>0.0</td>\n",
       "      <td>1.000000</td>\n",
       "    </tr>\n",
       "    <tr>\n",
       "      <th>2</th>\n",
       "      <td>0.704408</td>\n",
       "      <td>0.702715</td>\n",
       "      <td>0.924419</td>\n",
       "      <td>7.739029e-09</td>\n",
       "      <td>0.212909</td>\n",
       "      <td>0.186626</td>\n",
       "      <td>0.331432</td>\n",
       "      <td>0.0</td>\n",
       "      <td>1.0</td>\n",
       "      <td>0.100000</td>\n",
       "    </tr>\n",
       "    <tr>\n",
       "      <th>3</th>\n",
       "      <td>0.588725</td>\n",
       "      <td>0.589712</td>\n",
       "      <td>0.465808</td>\n",
       "      <td>1.227069e-08</td>\n",
       "      <td>0.363789</td>\n",
       "      <td>0.224027</td>\n",
       "      <td>0.515632</td>\n",
       "      <td>0.0</td>\n",
       "      <td>0.0</td>\n",
       "      <td>0.600000</td>\n",
       "    </tr>\n",
       "    <tr>\n",
       "      <th>4</th>\n",
       "      <td>0.591037</td>\n",
       "      <td>0.592128</td>\n",
       "      <td>0.452253</td>\n",
       "      <td>1.109908e-08</td>\n",
       "      <td>0.307628</td>\n",
       "      <td>0.227427</td>\n",
       "      <td>0.614280</td>\n",
       "      <td>0.0</td>\n",
       "      <td>0.0</td>\n",
       "      <td>0.566667</td>\n",
       "    </tr>\n",
       "    <tr>\n",
       "      <th>...</th>\n",
       "      <td>...</td>\n",
       "      <td>...</td>\n",
       "      <td>...</td>\n",
       "      <td>...</td>\n",
       "      <td>...</td>\n",
       "      <td>...</td>\n",
       "      <td>...</td>\n",
       "      <td>...</td>\n",
       "      <td>...</td>\n",
       "      <td>...</td>\n",
       "    </tr>\n",
       "    <tr>\n",
       "      <th>9426</th>\n",
       "      <td>0.701590</td>\n",
       "      <td>0.699838</td>\n",
       "      <td>0.931205</td>\n",
       "      <td>1.031141e-08</td>\n",
       "      <td>0.461861</td>\n",
       "      <td>0.280695</td>\n",
       "      <td>0.316434</td>\n",
       "      <td>0.0</td>\n",
       "      <td>1.0</td>\n",
       "      <td>0.100000</td>\n",
       "    </tr>\n",
       "    <tr>\n",
       "      <th>9427</th>\n",
       "      <td>0.678934</td>\n",
       "      <td>0.680735</td>\n",
       "      <td>0.418570</td>\n",
       "      <td>9.767273e-09</td>\n",
       "      <td>0.367980</td>\n",
       "      <td>0.418965</td>\n",
       "      <td>0.855302</td>\n",
       "      <td>0.0</td>\n",
       "      <td>0.0</td>\n",
       "      <td>0.533333</td>\n",
       "    </tr>\n",
       "    <tr>\n",
       "      <th>9428</th>\n",
       "      <td>0.729879</td>\n",
       "      <td>0.729779</td>\n",
       "      <td>0.718018</td>\n",
       "      <td>5.855867e-09</td>\n",
       "      <td>0.402347</td>\n",
       "      <td>0.552701</td>\n",
       "      <td>0.602450</td>\n",
       "      <td>0.0</td>\n",
       "      <td>0.0</td>\n",
       "      <td>0.933333</td>\n",
       "    </tr>\n",
       "    <tr>\n",
       "      <th>9429</th>\n",
       "      <td>0.625763</td>\n",
       "      <td>0.626061</td>\n",
       "      <td>0.594164</td>\n",
       "      <td>9.001746e-09</td>\n",
       "      <td>0.436714</td>\n",
       "      <td>0.483566</td>\n",
       "      <td>0.222433</td>\n",
       "      <td>0.0</td>\n",
       "      <td>0.0</td>\n",
       "      <td>0.766667</td>\n",
       "    </tr>\n",
       "    <tr>\n",
       "      <th>9430</th>\n",
       "      <td>0.597737</td>\n",
       "      <td>0.598364</td>\n",
       "      <td>0.525780</td>\n",
       "      <td>1.005174e-08</td>\n",
       "      <td>0.432523</td>\n",
       "      <td>0.403098</td>\n",
       "      <td>0.280101</td>\n",
       "      <td>0.0</td>\n",
       "      <td>0.0</td>\n",
       "      <td>0.666667</td>\n",
       "    </tr>\n",
       "  </tbody>\n",
       "</table>\n",
       "<p>9431 rows × 10 columns</p>\n",
       "</div>"
      ],
      "text/plain": [
       "             0         1         2             3         4         5  \\\n",
       "0     0.689021  0.691429  0.341346  1.238388e-08  0.242246  0.658104   \n",
       "1     0.848664  0.848530  0.789688  5.530586e-09  0.470243  0.550812   \n",
       "2     0.704408  0.702715  0.924419  7.739029e-09  0.212909  0.186626   \n",
       "3     0.588725  0.589712  0.465808  1.227069e-08  0.363789  0.224027   \n",
       "4     0.591037  0.592128  0.452253  1.109908e-08  0.307628  0.227427   \n",
       "...        ...       ...       ...           ...       ...       ...   \n",
       "9426  0.701590  0.699838  0.931205  1.031141e-08  0.461861  0.280695   \n",
       "9427  0.678934  0.680735  0.418570  9.767273e-09  0.367980  0.418965   \n",
       "9428  0.729879  0.729779  0.718018  5.855867e-09  0.402347  0.552701   \n",
       "9429  0.625763  0.626061  0.594164  9.001746e-09  0.436714  0.483566   \n",
       "9430  0.597737  0.598364  0.525780  1.005174e-08  0.432523  0.403098   \n",
       "\n",
       "             6    7    8         9  \n",
       "0     0.847909  0.0  0.0  0.466667  \n",
       "1     0.542459  0.0  0.0  1.000000  \n",
       "2     0.331432  0.0  1.0  0.100000  \n",
       "3     0.515632  0.0  0.0  0.600000  \n",
       "4     0.614280  0.0  0.0  0.566667  \n",
       "...        ...  ...  ...       ...  \n",
       "9426  0.316434  0.0  1.0  0.100000  \n",
       "9427  0.855302  0.0  0.0  0.533333  \n",
       "9428  0.602450  0.0  0.0  0.933333  \n",
       "9429  0.222433  0.0  0.0  0.766667  \n",
       "9430  0.280101  0.0  0.0  0.666667  \n",
       "\n",
       "[9431 rows x 10 columns]"
      ]
     },
     "execution_count": 18,
     "metadata": {},
     "output_type": "execute_result"
    }
   ],
   "source": [
    "btc_data"
   ]
  },
  {
   "cell_type": "markdown",
   "metadata": {},
   "source": [
    "#### Deviding into training and testing datasets for preparing models"
   ]
  },
  {
   "cell_type": "code",
   "execution_count": 19,
   "metadata": {},
   "outputs": [],
   "source": [
    "y = btc_data.iloc[:, 1]\n",
    "btc_data = btc_data.drop(1, 1) ## dropping price column\n",
    "X = btc_data\n",
    "\n",
    "# Split dataset into training set and test set\n",
    "X_train, X_test, y_train, y_test = train_test_split(X, y, test_size=0.3, random_state=1) # 70% training and 30% test"
   ]
  },
  {
   "cell_type": "markdown",
   "metadata": {},
   "source": [
    "## Decision Tree Regressor"
   ]
  },
  {
   "cell_type": "code",
   "execution_count": 20,
   "metadata": {},
   "outputs": [],
   "source": [
    "# fitting our DecisionTree model with random setting\n",
    "tree = DecisionTreeRegressor(random_state=1)\n",
    "tree.fit(X_train, y_train)\n",
    "ypredtest = tree.predict(X_test)"
   ]
  },
  {
   "cell_type": "code",
   "execution_count": 21,
   "metadata": {},
   "outputs": [
    {
     "data": {
      "text/plain": [
       "0.00039024412195120606"
      ]
     },
     "execution_count": 21,
     "metadata": {},
     "output_type": "execute_result"
    }
   ],
   "source": [
    "metrics.mean_absolute_error(y_test, ypredtest)"
   ]
  },
  {
   "cell_type": "code",
   "execution_count": 22,
   "metadata": {},
   "outputs": [
    {
     "data": {
      "text/plain": [
       "GridSearchCV(cv=8, estimator=DecisionTreeRegressor(random_state=1), n_jobs=-1,\n",
       "             param_grid={'max_depth': (5, 8, 15, 30, 35, 50),\n",
       "                         'max_features': (0.2, 0.4, 0.6, 0.8),\n",
       "                         'min_samples_split': (2, 5, 8, 10, 20)},\n",
       "             scoring='neg_mean_absolute_error')"
      ]
     },
     "execution_count": 22,
     "metadata": {},
     "output_type": "execute_result"
    }
   ],
   "source": [
    "#GRIDsearchCV for better settings finding out\n",
    "hyperparameters = {\"max_depth\":(5, 8, 15, 30, 35, 50), \"max_features\":(0.2, 0.4, 0.6, 0.8), \"min_samples_split\":(2, 5, 8, 10, 20)}\n",
    "Grid= GridSearchCV(estimator=tree, param_grid=hyperparameters, cv=8, scoring=\"neg_mean_absolute_error\", n_jobs=-1)\n",
    "Grid.fit(X_train, y_train)"
   ]
  },
  {
   "cell_type": "code",
   "execution_count": 23,
   "metadata": {},
   "outputs": [
    {
     "data": {
      "text/plain": [
       "DecisionTreeRegressor(max_depth=30, max_features=0.8, random_state=1)"
      ]
     },
     "execution_count": 23,
     "metadata": {},
     "output_type": "execute_result"
    }
   ],
   "source": [
    "Grid.best_estimator_"
   ]
  },
  {
   "cell_type": "code",
   "execution_count": 24,
   "metadata": {},
   "outputs": [],
   "source": [
    "## fitting out decisiontree regressor with the best setting got through GRIDSEARCHCV and getting improved MSE.\n",
    "tree = DecisionTreeRegressor(max_depth=30,max_features=0.8, min_samples_split= 2, random_state=1)\n",
    "tree.fit(X_train, y_train)\n",
    "ypredd = tree.predict(X_test)"
   ]
  },
  {
   "cell_type": "code",
   "execution_count": 25,
   "metadata": {},
   "outputs": [
    {
     "data": {
      "text/plain": [
       "0.0004938590084033653"
      ]
     },
     "execution_count": 25,
     "metadata": {},
     "output_type": "execute_result"
    }
   ],
   "source": [
    "metrics.mean_absolute_error(y_test, ypredd) # We have got some improvement in the end result overall with the best features."
   ]
  },
  {
   "cell_type": "code",
   "execution_count": 26,
   "metadata": {},
   "outputs": [
    {
     "data": {
      "text/plain": [
       "array([0.99996687, 0.9999794 , 0.99997012, 0.99997991, 0.99996217,\n",
       "       0.99998238, 0.99997695, 0.9999702 ])"
      ]
     },
     "execution_count": 26,
     "metadata": {},
     "output_type": "execute_result"
    }
   ],
   "source": [
    "# now carrying over cross validation for decision regressor\n",
    "from sklearn.model_selection import cross_val_score\n",
    "cvscore = cross_val_score(tree, X_train, y_train, cv=8)\n",
    "cvscore"
   ]
  },
  {
   "cell_type": "code",
   "execution_count": 27,
   "metadata": {},
   "outputs": [
    {
     "data": {
      "text/plain": [
       "0.9999735002982324"
      ]
     },
     "execution_count": 27,
     "metadata": {},
     "output_type": "execute_result"
    }
   ],
   "source": [
    "cvscore.mean()"
   ]
  },
  {
   "cell_type": "markdown",
   "metadata": {},
   "source": [
    "### Result:\n",
    "Got improved means absolute loss through the hyperparamters turnning through GRID and then also get to know that cross validation has a greater accuracies over all in prediction."
   ]
  },
  {
   "cell_type": "markdown",
   "metadata": {},
   "source": [
    "## Linear Regression"
   ]
  },
  {
   "cell_type": "code",
   "execution_count": 64,
   "metadata": {},
   "outputs": [],
   "source": [
    "# fitting this pipeline for running different algorithms froom smoothen data to training model\n",
    "pipe = Pipeline([\n",
    "('scaler', MinMaxScaler()),\n",
    "('pca', decomposition.PCA()),\n",
    "('LR', LinearRegression())\n",
    "])\n",
    "pipe.fit(X_train, y_train)\n",
    "y_pred_lr = pipe.predict(X_test)"
   ]
  },
  {
   "cell_type": "code",
   "execution_count": 65,
   "metadata": {},
   "outputs": [
    {
     "name": "stdout",
     "output_type": "stream",
     "text": [
      "Linear Regression using Pipe\n",
      "Error Calculation:  0.9999996470030105\n",
      "Mean Absolute Error:  9.628698612697876e-05\n"
     ]
    }
   ],
   "source": [
    "print('Linear Regression using Pipe')\n",
    "print('Error Calculation: ', pipe.score(X_test,y_test))\n",
    "print('Mean Absolute Error: ', metrics.mean_absolute_error(y_test,y_pred_lr))"
   ]
  },
  {
   "cell_type": "code",
   "execution_count": 66,
   "metadata": {},
   "outputs": [],
   "source": [
    "# defining that which scalling technique could be good while training LR.\n",
    "n_components = list(range(1,X.shape[1]+1,1))\n",
    "parameters = { 'scaler': [StandardScaler(), MinMaxScaler(),\n",
    "\tNormalizer(), MaxAbsScaler()],\n",
    "                'LR__fit_intercept': [True, False],\n",
    "                'LR__copy_X': [True, False],\n",
    "                'LR__n_jobs': [1,2,3]\n",
    "}"
   ]
  },
  {
   "cell_type": "code",
   "execution_count": 67,
   "metadata": {},
   "outputs": [
    {
     "name": "stdout",
     "output_type": "stream",
     "text": [
      "With Pipe Optimization\n",
      "Training scoring:  -6.64732255575444\n",
      "Testing/Validation scoring:  -6.842195364586806\n",
      "Testing/Validation Mean Absolute Error:  0.5909467494657903\n"
     ]
    }
   ],
   "source": [
    "# running GRIDSEARCHCV for getting the good settings of our model\n",
    "grid = GridSearchCV(pipe, parameters).fit(X_train, y_train)\n",
    "pred_grid_lr = grid.predict(X_test)\n",
    "print('With Pipe Optimization')\n",
    "print('Training scoring: ', grid.score(X_train, y_train))\n",
    "print('Testing/Validation scoring: ', grid.score(X_test,y_test))\n",
    "print('Testing/Validation Mean Absolute Error: ', metrics.mean_absolute_error(y_test,pred_grid_lr))"
   ]
  },
  {
   "cell_type": "code",
   "execution_count": 68,
   "metadata": {},
   "outputs": [
    {
     "name": "stdout",
     "output_type": "stream",
     "text": [
      "{'LR__copy_X': True, 'LR__fit_intercept': False, 'LR__n_jobs': 1, 'scaler': StandardScaler()}\n",
      "Pipeline(steps=[('scaler', StandardScaler()), ('pca', PCA()),\n",
      "                ('LR', LinearRegression(fit_intercept=False, n_jobs=1))])\n",
      "Index(['mean_fit_time', 'std_fit_time', 'mean_score_time', 'std_score_time',\n",
      "       'param_LR__copy_X', 'param_LR__fit_intercept', 'param_LR__n_jobs',\n",
      "       'param_scaler', 'params', 'split0_test_score', 'split1_test_score',\n",
      "       'split2_test_score', 'split3_test_score', 'split4_test_score',\n",
      "       'mean_test_score', 'std_test_score', 'rank_test_score'],\n",
      "      dtype='object')\n"
     ]
    }
   ],
   "source": [
    "# Access the best set of parameters\n",
    "best_params = grid.best_params_\n",
    "print(best_params)\n",
    "# Stores the optimum model in best_pipe\n",
    "best_pipe = grid.best_estimator_\n",
    "print(best_pipe)\n",
    "result_df = pd.DataFrame.from_dict(grid.cv_results_, orient='columns')\n",
    "print(result_df.columns)"
   ]
  },
  {
   "cell_type": "markdown",
   "metadata": {},
   "source": [
    "##### Got these as best paramter for fitting our linear regression model over the given data\n",
    "##### LinearRegression(fit_intercept=False, n_jobs=1))"
   ]
  },
  {
   "cell_type": "code",
   "execution_count": 34,
   "metadata": {},
   "outputs": [
    {
     "name": "stdout",
     "output_type": "stream",
     "text": [
      "[-6.62592305e+00 -2.06294525e+06 -6.75474023e+00]\n"
     ]
    }
   ],
   "source": [
    "# cross_validation the training data\n",
    "r_2 = make_scorer(metrics.r2_score)\n",
    "CV_Result = cross_val_score(grid, X_train, y_train, cv=3, n_jobs=1, scoring=r_2)\n",
    "print(CV_Result)"
   ]
  },
  {
   "cell_type": "markdown",
   "metadata": {},
   "source": [
    "### Result:\n",
    "Improved the hyper paramters for the algorithm and then get to know that we have greater loss in the overall validation phase for predicting the price but later get to know that it can also predict the pricing more greatly with the loss of 0.59094."
   ]
  },
  {
   "cell_type": "markdown",
   "metadata": {},
   "source": [
    "### Ensemble Learning - Comparing models (DecisionRegressor, LinearRegression, SVM)"
   ]
  },
  {
   "cell_type": "code",
   "execution_count": 39,
   "metadata": {},
   "outputs": [
    {
     "name": "stdout",
     "output_type": "stream",
     "text": [
      "LinearRegression 0.9999996470030105\n",
      "Mean Absolute Error:  9.628698612699735e-05\n",
      "-----------------------------------\n",
      "SVR 0.8935413792592712\n",
      "Mean Absolute Error:  0.06505805404865345\n",
      "-----------------------------------\n",
      "DecisionTreeRegressor 0.9999897891741282\n",
      "Mean Absolute Error:  0.0003811244417307634\n",
      "-----------------------------------\n",
      "VotingRegressor 0.9881468536247956\n",
      "Mean Absolute Error:  0.021707855640151087\n",
      "-----------------------------------\n"
     ]
    }
   ],
   "source": [
    "# preparing 3 models and having voting between them (Linear Regression, SVR, DecisionTreeRegressor)\n",
    "LR=LinearRegression(n_jobs=1)\n",
    "SVR=svm.SVR(kernel='linear')\n",
    "DTR=DecisionTreeRegressor(max_depth=30)\n",
    "VR= VotingRegressor([('lr',LR),\n",
    "                         ('svr',SVR),\n",
    "                         ('tree',DTR) ])\n",
    "for r_model in (LR, SVR, DTR, VR):\n",
    "    r_model.fit(X_train, y_train)\n",
    "    print(r_model.__class__.__name__, r_model.score(X_test,y_test))\n",
    "    ypredtest = r_model.predict(X_test)\n",
    "    print('Mean Absolute Error: ', metrics.mean_absolute_error(y_test, ypredtest))\n",
    "    print('-----------------------------------')"
   ]
  },
  {
   "cell_type": "markdown",
   "metadata": {},
   "source": [
    "### Bagging Regressor using SK-Learn"
   ]
  },
  {
   "cell_type": "code",
   "execution_count": 41,
   "metadata": {},
   "outputs": [
    {
     "name": "stdout",
     "output_type": "stream",
     "text": [
      "Bagging Mean Absolute Error 0.00027522669905347727\n"
     ]
    }
   ],
   "source": [
    "model = BaggingRegressor(base_estimator=DecisionTreeRegressor(max_depth=30,max_features=0.8, \n",
    "min_samples_split= 2, random_state=1), n_estimators=100) # using decisiontree as bagging regressor\n",
    "model.fit(X_train, y_train)\n",
    "model.score(X_test,y_test)\n",
    "# Now running prediction and then accordingly calculating error and reducing it\n",
    "y_pred_bagging = model.predict(X_test) \n",
    "print('Bagging Mean Absolute Error', metrics.mean_absolute_error(y_test, y_pred_bagging))"
   ]
  },
  {
   "cell_type": "markdown",
   "metadata": {},
   "source": [
    "#### Result:\n",
    "We have got a great score of 99%. Linear Regression and Decision Tree regressor did very well in predicting the prices with 99% accuracy with bagging. So we can choose either Linear Regression or Decision Tree Regressor for further prediction of price."
   ]
  },
  {
   "cell_type": "markdown",
   "metadata": {},
   "source": [
    "### Deep Neural Network through tensorflow-keras"
   ]
  },
  {
   "cell_type": "code",
   "execution_count": 50,
   "metadata": {},
   "outputs": [
    {
     "name": "stdout",
     "output_type": "stream",
     "text": [
      "Model: \"sequential_5\"\n",
      "_________________________________________________________________\n",
      " Layer (type)                Output Shape              Param #   \n",
      "=================================================================\n",
      " dense_20 (Dense)            (None, 256)               2560      \n",
      "                                                                 \n",
      " dense_21 (Dense)            (None, 256)               65792     \n",
      "                                                                 \n",
      " dropout_10 (Dropout)        (None, 256)               0         \n",
      "                                                                 \n",
      " dense_22 (Dense)            (None, 256)               65792     \n",
      "                                                                 \n",
      " dropout_11 (Dropout)        (None, 256)               0         \n",
      "                                                                 \n",
      " dense_23 (Dense)            (None, 1)                 257       \n",
      "                                                                 \n",
      "=================================================================\n",
      "Total params: 134,401\n",
      "Trainable params: 134,401\n",
      "Non-trainable params: 0\n",
      "_________________________________________________________________\n"
     ]
    }
   ],
   "source": [
    "# using relu so that we don't get predicted price less than zero g(z) = max{0, z},\n",
    "# where either we turn it to zero or keep the value\n",
    "model = keras.Sequential(\n",
    "    [\n",
    "        keras.layers.Dense(\n",
    "            256, activation=\"relu\", input_shape=(X_train.shape[-1],) # adding relu as AF with 256 NEURONS\n",
    "        ),\n",
    "        keras.layers.Dense(256, activation=\"relu\"), # adding one more dense layer with similar specs\n",
    "        keras.layers.Dropout(0.2), # dropping out of 0.2 some un-useful information for further layer\n",
    "        keras.layers.Dense(256, activation=\"relu\"), # another dense layer of 256 NEURONS\n",
    "        keras.layers.Dropout(0.2), # dropout of 0.2 for neglecting un-useful information\n",
    "        keras.layers.Dense(1, activation=\"relu\"), # another dense layer as output layer with only 1 NEURON specified as our output with relu\n",
    "    ]\n",
    ")\n",
    "model.summary()\n",
    "model.compile(optimizer=keras.optimizers.Adam(), loss='mean_absolute_error', metrics='accuracy')\n",
    "\n",
    "# making use of different learning rates and momentum for training our neural network\n",
    "# learning_rates raning from = [0.1, 0.01, 0.001] these learning rate didn't help us in \n",
    "# reducing loss so that's why used default settings\n",
    "\n",
    "## choosing mean_absolute_error as a loss function to check how much loss we have and how it's decreasing in predicting prices\n",
    "# using accuracy but will not be considering it."
   ]
  },
  {
   "cell_type": "code",
   "execution_count": 51,
   "metadata": {},
   "outputs": [
    {
     "name": "stdout",
     "output_type": "stream",
     "text": [
      "Epoch 1/10\n",
      "133/133 [==============================] - 1s 5ms/step - loss: 0.0655 - accuracy: 3.0298e-04 - val_loss: 0.0741 - val_accuracy: 0.0000e+00\n",
      "Epoch 2/10\n",
      "133/133 [==============================] - 0s 3ms/step - loss: 0.0405 - accuracy: 3.0298e-04 - val_loss: 0.0599 - val_accuracy: 0.0000e+00\n",
      "Epoch 3/10\n",
      "133/133 [==============================] - 0s 4ms/step - loss: 0.0371 - accuracy: 3.0298e-04 - val_loss: 0.0104 - val_accuracy: 0.0000e+00\n",
      "Epoch 4/10\n",
      "133/133 [==============================] - 0s 3ms/step - loss: 0.0318 - accuracy: 3.0298e-04 - val_loss: 0.0208 - val_accuracy: 0.0000e+00\n",
      "Epoch 5/10\n",
      "133/133 [==============================] - 0s 3ms/step - loss: 0.0328 - accuracy: 3.0298e-04 - val_loss: 0.0317 - val_accuracy: 0.0000e+00\n",
      "Epoch 6/10\n",
      "133/133 [==============================] - 0s 3ms/step - loss: 0.0290 - accuracy: 3.0298e-04 - val_loss: 0.0386 - val_accuracy: 0.0000e+00\n",
      "Epoch 7/10\n",
      "133/133 [==============================] - 0s 3ms/step - loss: 0.0287 - accuracy: 3.0298e-04 - val_loss: 0.0174 - val_accuracy: 0.0000e+00\n",
      "Epoch 8/10\n",
      "133/133 [==============================] - 0s 3ms/step - loss: 0.0281 - accuracy: 3.0298e-04 - val_loss: 0.0292 - val_accuracy: 0.0000e+00\n",
      "Epoch 9/10\n",
      "133/133 [==============================] - 0s 3ms/step - loss: 0.0264 - accuracy: 3.0298e-04 - val_loss: 0.0206 - val_accuracy: 0.0000e+00\n",
      "Epoch 10/10\n",
      "133/133 [==============================] - 0s 3ms/step - loss: 0.0288 - accuracy: 3.0298e-04 - val_loss: 0.0235 - val_accuracy: 0.0000e+00\n"
     ]
    }
   ],
   "source": [
    "history = model.fit(X_train, y_train, validation_data=(X_test, y_test), epochs=10, batch_size=50, shuffle=False) \n",
    "# using batch_size for this much data and also validating on the go with testing data\n",
    "# not shuffling it an fitting our model with just 10 epochs due to not having a good GPU power"
   ]
  },
  {
   "cell_type": "markdown",
   "metadata": {},
   "source": [
    "##### Our accuracy is behaving too differently but as a regression model i am considering only loss that is in mean squared error for this neural network"
   ]
  },
  {
   "cell_type": "code",
   "execution_count": 53,
   "metadata": {},
   "outputs": [
    {
     "data": {
      "image/png": "[encoded data removed]",
      "text/plain": [
       "<Figure size 360x216 with 1 Axes>"
      ]
     },
     "metadata": {
      "needs_background": "light"
     },
     "output_type": "display_data"
    }
   ],
   "source": [
    "# drawing the plots of loss and val_loss through the history saved during fitting our model\n",
    "plt.rcParams[\"figure.figsize\"] = (5,3)\n",
    "plt.plot(history.history['loss'])\n",
    "plt.plot(history.history['val_loss'])\n",
    "plt.title('Deep Learning - MSE (Mean Squared Error)')\n",
    "plt.ylabel('Loss Values')\n",
    "plt.xlabel('Total Epochs')\n",
    "plt.legend(['Training Loss', 'Validation Loss'], loc='upper right')\n",
    "plt.show()"
   ]
  },
  {
   "cell_type": "code",
   "execution_count": 61,
   "metadata": {},
   "outputs": [
    {
     "name": "stdout",
     "output_type": "stream",
     "text": [
      "First 5 Predicted Test Values\n",
      "[0.5591178  0.32097495 0.705351   0.80211806 0.79585695]\n",
      "First 5 Actual Test Values\n",
      "[0.57361236 0.32422314 0.72289184 0.85558872 0.8371862 ]\n"
     ]
    }
   ],
   "source": [
    "print('First 5 Predicted Test Values')\n",
    "print(np.array(model.predict(X_test)).flatten()[:5])\n",
    "\n",
    "print('First 5 Actual Test Values')\n",
    "print(np.array(y_test).flatten()[:5])\n",
    "\n",
    "\n",
    "## Predicted quite nearer"
   ]
  },
  {
   "cell_type": "markdown",
   "metadata": {},
   "source": [
    "Different Models I used and their MSE (Mean Squared Errors) comparisons:\n",
    "\n",
    "| Models | MAE/MSE |\n",
    "| --- | --- |\n",
    "| Decision Tree Regressor | 0.0004938 |\n",
    "| Linear Regression | 0.0000962 |\n",
    "| Support Vector Regressor | 0.0650580 |\n",
    "| Enselble Voting Regressor | 0.0217078 |\n",
    "| Bagging - DTR | 0.0002752 |\n",
    "| Deep Neural Network | 0.0235000 |"
   ]
  },
  {
   "cell_type": "markdown",
   "metadata": {},
   "source": [
    "#### I got these estimations where value loss and improved error on the testing data was seen through deep neural network. \n",
    "* I will better carry on with the Linear Regression, Neural Network or Decision Tree Regressor. \n",
    "* Models are even performing well on the unseen data as well where we can predict price formation.\n",
    "* Price with the use of these features ('market cap', 'circulating supply', 'volume', '% 1h', '% 24h', '% 1wk').\n",
    "* Further research can be made over the live data which we can made to predict price and then trade accordingly. "
   ]
  },
  {
   "cell_type": "markdown",
   "metadata": {},
   "source": [
    "#### Results:\n",
    "First 5 Predicted Test Values <br>\n",
    "[0.5591178  0.32097495 0.705351   0.80211806 0.79585695] <br><br>\n",
    "First 5 Actual Test Values <br>\n",
    "[0.57361236 0.32422314 0.72289184 0.85558872 0.8371862 ] <br>"
   ]
  },
  {
   "cell_type": "markdown",
   "metadata": {},
   "source": [
    "### References:\n",
    "* https://scikit-learn.org/stable/modules/generated/sklearn.tree.DecisionTreeRegressor.html\n",
    "* https://scikit-learn.org/stable/modules/generated/sklearn.linear_model.LinearRegression.html\n",
    "* https://scikit-learn.org/stable/modules/generated/sklearn.model_selection.cross_val_score.html\n",
    "* https://scikit-learn.org/stable/modules/generated/sklearn.metrics.mean_squared_error.html\n",
    "* https://www.tensorflow.org/tutorials/quickstart/beginner\n"
   ]
  }
 ],
 "metadata": {
  "interpreter": {
   "hash": "7e1998ff7f8aa20ada591c520b972326324e5ea05489af9e422744c7c09f6dad"
  },
  "kernelspec": {
   "display_name": "Python 3.10.0 64-bit",
   "language": "python",
   "name": "python3"
  },
  "language_info": {
   "codemirror_mode": {
    "name": "ipython",
    "version": 3
   },
   "file_extension": ".py",
   "mimetype": "text/x-python",
   "name": "python",
   "nbconvert_exporter": "python",
   "pygments_lexer": "ipython3",
   "version": "3.10.0"
  },
  "orig_nbformat": 4
 },
 "nbformat": 4,
 "nbformat_minor": 2
}
